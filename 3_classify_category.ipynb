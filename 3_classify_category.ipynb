{
 "cells": [
  {
   "cell_type": "markdown",
   "metadata": {},
   "source": [
    "# 3. カテゴリ分類"
   ]
  },
  {
   "cell_type": "markdown",
   "metadata": {},
   "source": [
    "### 準備"
   ]
  },
  {
   "cell_type": "code",
   "execution_count": 1,
   "metadata": {},
   "outputs": [
    {
     "name": "stderr",
     "output_type": "stream",
     "text": [
      "Using TensorFlow backend.\n"
     ]
    }
   ],
   "source": [
    "import sys\n",
    "import numpy as np\n",
    "import pickle\n",
    "from gensim.models.word2vec import Word2Vec\n",
    "from sklearn.model_selection import train_test_split\n",
    "from sklearn.metrics import accuracy_score, f1_score\n",
    "import keras\n",
    "from keras.models import Model\n",
    "from keras.layers import Dense, Conv2D, AveragePooling2D, Flatten, Input, Activation, Add, Dropout\n",
    "from keras.layers.normalization import BatchNormalization\n",
    "from keras.callbacks import LearningRateScheduler\n",
    "from sklearn.model_selection import train_test_split\n",
    "import matplotlib.pyplot as plt\n",
    "\n",
    "random_state = 2\n",
    "\n",
    "v_size = 300  # word2vec の次元\n",
    "word_num = 300  # そろえる単語数\n",
    "epochs = 16\n",
    "batch_size = 32\n",
    "\n",
    "# iLect環境用  ./が効かないようなので\n",
    "f_dir = '/root/userspace/dl4us_final_report/'"
   ]
  },
  {
   "cell_type": "code",
   "execution_count": 2,
   "metadata": {},
   "outputs": [],
   "source": [
    "# カテゴリ辞書の関数\n",
    "\n",
    "def category_dic():\n",
    "    ''' カテゴリの 文字 <-> 番号 変換用辞書 '''\n",
    "\n",
    "    dic = {'SCL': 0,  # school 学校\n",
    "           'RLW': 1,  # railway 鉄道（交通関連）\n",
    "           'FML': 2,  # family 旧家\n",
    "           'BLD': 3,  # building 建造物\n",
    "           'SNT': 4,  # Shinto 神道\n",
    "           'PNM': 5,  # person name 人名\n",
    "           'GNM': 6,  # geographical name 地名\n",
    "           'CLT': 7,  # culture 伝統文化（現代文化も含む）\n",
    "           'ROD': 8,  # road 道路\n",
    "           'BDS': 9,  # Buddhism 仏教\n",
    "           'LTT': 10,  # literature 文学\n",
    "           'TTL': 11,  # title 役職・称号\n",
    "           'HST': 12,  # history 歴史\n",
    "           'SAT': 13,  # shrines and temples 神社仏閣\n",
    "           'EPR': 14}  # emperor 天皇\n",
    "\n",
    "    return dic\n",
    "\n",
    "\n",
    "def cat2id(cha):\n",
    "    ''' カテゴリの文字を番号に '''\n",
    "\n",
    "    dic = category_dic()\n",
    "    \n",
    "    return dic[cha]\n",
    "\n",
    "\n",
    "def id2cat(id):\n",
    "    ''' カテゴリの番号を文字に '''\n",
    "    \n",
    "    dic_rev = {i: c for c, i in category_dic().items()}\n",
    "\n",
    "    return dic_rev[id]"
   ]
  },
  {
   "cell_type": "markdown",
   "metadata": {},
   "source": [
    "## 3.1 データ読み込み、整形"
   ]
  },
  {
   "cell_type": "code",
   "execution_count": 3,
   "metadata": {},
   "outputs": [],
   "source": [
    "docs = pickle.load(open(f_dir + 'pickles/shf_tkn_docs.pickle', 'rb'))\n",
    "labels = pickle.load(open(f_dir + 'pickles/shf_labels.pickle', 'rb'))\n",
    "\n",
    "w2v_model = Word2Vec.load(f_dir + 'models/w2v_' + str(v_size) + '.model')\n",
    "\n",
    "# 各文書、単語数をword_numにそろえ、ベクトル化\n",
    "x2 = []\n",
    "for n, doc in enumerate(docs):\n",
    "    a_tokens = []\n",
    "    for line in doc:\n",
    "        a_tokens += line\n",
    "    if len(a_tokens) >= word_num:\n",
    "        tokens = [w2v_model[t] for t in a_tokens[:word_num]]\n",
    "\n",
    "    # 短ければゼロ埋め\n",
    "    else:\n",
    "        tokens = [w2v_model[t] for t in a_tokens] \\\n",
    "               + [[0.0] * v_size for i in range(word_num - len(a_tokens))]\n",
    "\n",
    "    x2.append(tokens)\n",
    "    # x2はnumpy arrayにするとMemoryErrorになるのでlistのまま。generatorでnumpy arrayにする\n",
    "\n",
    "# 教師ラベルは('カテゴリ', '言語')のうちの'カテゴリ'\n",
    "y2 = [cat2id(label[0]) for label in labels]\n",
    "y2 = np.eye(len(category_dic()))[y2]  # 1-hot\n",
    "                \n",
    "# x2はlist, y2はnumpy配列\n",
    "x2_train, x2_test, y2_train, y2_test = train_test_split(x2, y2, test_size=0.15, random_state=random_state)\n",
    "x2_train, x2_valid, y2_train, y2_valid = train_test_split(x2_train, y2_train, test_size=0.1, random_state=random_state)"
   ]
  },
  {
   "cell_type": "markdown",
   "metadata": {},
   "source": [
    "## 3.2 モデル構築"
   ]
  },
  {
   "cell_type": "code",
   "execution_count": 4,
   "metadata": {},
   "outputs": [],
   "source": [
    "def batch_gen(x2_list, y2_npy, batch_size=32):\n",
    "    '''\n",
    "    ミニバッチジェネレータ\n",
    "    【入力】x2_list:文書はlistなのでnumpy array化。\n",
    "            y2_npy :カテゴリラベル。そのまま。\n",
    "    '''\n",
    "    if len(x2_list) != len(y2_npy):\n",
    "        print('x2 length ne y2 length', file=sys.stderr)\n",
    "        sys.exit()\n",
    "\n",
    "    n_batches = -(-len(x2_list) // batch_size)  # 1epochのbatch数。切り上げ。\n",
    "    \n",
    "    while True:\n",
    "        for i in range(n_batches):\n",
    "            start = i * batch_size\n",
    "            end = (i + 1) * batch_size\n",
    "            \n",
    "            x2_mb = np.array(x2_list[start: end])\n",
    "            x2_mb = x2_mb.reshape(x2_mb.shape[0], x2_mb.shape[1], x2_mb.shape[2], 1)\n",
    "\n",
    "            y2_mb = y2_npy[start: end]\n",
    "                    \n",
    "            yield x2_mb, y2_mb"
   ]
  },
  {
   "cell_type": "code",
   "execution_count": 5,
   "metadata": {},
   "outputs": [],
   "source": [
    "# 学習率\n",
    "lr_start = 0.002\n",
    "lr_end = 0.00005\n",
    "learning_rates = np.linspace(lr_start, lr_end, epochs)\n",
    "lrs_callback = LearningRateScheduler(lambda epoch: float(learning_rates[epoch]))\n",
    "\n",
    "# Skip Connection の関数\n",
    "def resblock(x, filters=16, kernel_size=(5,5)):\n",
    "    x_ = Conv2D(filters, kernel_size, padding='same', kernel_initializer='he_normal')(x)\n",
    "    x_ = BatchNormalization()(x_)\n",
    "    x_ = Activation('relu')(x_)\n",
    "    x_ = Dropout(0.3)(x_)\n",
    "    x_ = Conv2D(filters, kernel_size, padding='same', kernel_initializer='he_normal')(x_)\n",
    "    x = Add()([x_, x])\n",
    "    x = BatchNormalization()(x)\n",
    "    x = Activation('relu')(x)\n",
    "    return x\n",
    "\n",
    "# モデル作成\n",
    "inputs = Input(shape=(300, 300, 1))\n",
    "x = Conv2D(4, kernel_size=(5, 5), padding='same', activation='relu', kernel_initializer='he_normal')(inputs)  # 300x300x4\n",
    "x = resblock(x, filters=4)\n",
    "x = resblock(x, filters=4)\n",
    "x = AveragePooling2D(pool_size=(5, 5))(x)  # 60x60x4\n",
    "x = Conv2D(8, kernel_size=(5, 5), padding='same', activation='relu', kernel_initializer='he_normal')(x)  # 60x60x8\n",
    "x = resblock(x, filters=8)\n",
    "x = resblock(x, filters=8)\n",
    "x = AveragePooling2D(pool_size=(3, 3))(x)  # 20x20x8\n",
    "x = Conv2D(16, kernel_size=(5, 5), padding='same', activation='relu', kernel_initializer='he_normal')(x)  # 20x20x16\n",
    "x = resblock(x, filters=16)\n",
    "x = resblock(x, filters=16)\n",
    "x = AveragePooling2D(pool_size=(2, 2))(x)  # 10x10x16\n",
    "x = Conv2D(32, kernel_size=(5, 5), padding='same', activation='relu', kernel_initializer='he_normal')(x)  # 10x10x32\n",
    "x = resblock(x, filters=32)\n",
    "x = resblock(x, filters=32)\n",
    "x = AveragePooling2D(pool_size=(2, 2))(x)  # 5x5x32\n",
    "x = Flatten()(x)  # 800\n",
    "x = Dense(360, activation='relu', kernel_initializer='he_normal')(x)  # 360\n",
    "x = Dense(120, activation='relu', kernel_initializer='he_normal')(x)  # 120\n",
    "x = Dense(54, activation='relu', kernel_initializer='he_normal')(x)  # 54\n",
    "y = Dense(15, activation='softmax')(x)  # 15\n",
    "\n",
    "model = Model(inputs=inputs, outputs=y)\n",
    "model.compile(loss=keras.losses.categorical_crossentropy, optimizer='adam', metrics=['accuracy'])"
   ]
  },
  {
   "cell_type": "markdown",
   "metadata": {},
   "source": [
    "## 3.3 学習"
   ]
  },
  {
   "cell_type": "code",
   "execution_count": 6,
   "metadata": {},
   "outputs": [
    {
     "name": "stdout",
     "output_type": "stream",
     "text": [
      "Epoch 1/16\n",
      "675/675 [==============================] - 549s 814ms/step - loss: 1.9183 - acc: 0.4233 - val_loss: 3.3631 - val_acc: 0.4123\n",
      "Epoch 2/16\n",
      "675/675 [==============================] - 545s 807ms/step - loss: 1.4344 - acc: 0.5379 - val_loss: 1.4594 - val_acc: 0.5406\n",
      "Epoch 3/16\n",
      "675/675 [==============================] - 545s 808ms/step - loss: 1.2284 - acc: 0.6009 - val_loss: 1.9965 - val_acc: 0.4731\n",
      "Epoch 4/16\n",
      "675/675 [==============================] - 545s 807ms/step - loss: 1.1066 - acc: 0.6375 - val_loss: 2.0096 - val_acc: 0.5565\n",
      "Epoch 5/16\n",
      "675/675 [==============================] - 544s 806ms/step - loss: 1.0098 - acc: 0.6655 - val_loss: 1.6498 - val_acc: 0.5569\n",
      "Epoch 6/16\n",
      "675/675 [==============================] - 545s 807ms/step - loss: 0.9268 - acc: 0.6908 - val_loss: 1.8656 - val_acc: 0.5202\n",
      "Epoch 7/16\n",
      "675/675 [==============================] - 544s 807ms/step - loss: 0.8584 - acc: 0.7118 - val_loss: 1.3420 - val_acc: 0.6219\n",
      "Epoch 8/16\n",
      "675/675 [==============================] - 544s 807ms/step - loss: 0.8097 - acc: 0.7268 - val_loss: 1.1117 - val_acc: 0.6503\n",
      "Epoch 9/16\n",
      "675/675 [==============================] - 545s 807ms/step - loss: 0.7810 - acc: 0.7387 - val_loss: 0.9969 - val_acc: 0.6820\n",
      "Epoch 10/16\n",
      "675/675 [==============================] - 544s 806ms/step - loss: 0.7427 - acc: 0.7476 - val_loss: 0.9703 - val_acc: 0.6920\n",
      "Epoch 11/16\n",
      "675/675 [==============================] - 543s 805ms/step - loss: 0.7144 - acc: 0.7574 - val_loss: 0.9585 - val_acc: 0.6978\n",
      "Epoch 12/16\n",
      "675/675 [==============================] - 543s 804ms/step - loss: 0.6864 - acc: 0.7668 - val_loss: 0.8966 - val_acc: 0.7199\n",
      "Epoch 13/16\n",
      "675/675 [==============================] - 543s 804ms/step - loss: 0.6583 - acc: 0.7755 - val_loss: 0.8858 - val_acc: 0.7228\n",
      "Epoch 14/16\n",
      "675/675 [==============================] - 543s 805ms/step - loss: 0.6350 - acc: 0.7826 - val_loss: 0.8336 - val_acc: 0.7328\n",
      "Epoch 15/16\n",
      "675/675 [==============================] - 543s 805ms/step - loss: 0.6074 - acc: 0.7882 - val_loss: 0.7962 - val_acc: 0.7524\n",
      "Epoch 16/16\n",
      "675/675 [==============================] - 543s 805ms/step - loss: 0.5940 - acc: 0.7945 - val_loss: 0.6887 - val_acc: 0.7716\n"
     ]
    }
   ],
   "source": [
    "n_batches_train = -(-len(x2_train) // batch_size)\n",
    "n_batches_valid = -(-len(x2_valid) // batch_size)\n",
    "\n",
    "fit2 = model.fit_generator(batch_gen(x2_train, y2_train, batch_size), epochs=epochs, steps_per_epoch=n_batches_train,\n",
    "                    validation_data=batch_gen(x2_valid, y2_valid, batch_size), validation_steps=n_batches_valid, \n",
    "                    callbacks=[lrs_callback])\n",
    "\n",
    "model.save(f_dir + 'models/clas_cat_cnn.h5')"
   ]
  },
  {
   "cell_type": "markdown",
   "metadata": {},
   "source": [
    "## 3.4 学習経過の記録"
   ]
  },
  {
   "cell_type": "code",
   "execution_count": 7,
   "metadata": {},
   "outputs": [
    {
     "data": {
      "text/html": [
       "<div>\n",
       "<style scoped>\n",
       "    .dataframe tbody tr th:only-of-type {\n",
       "        vertical-align: middle;\n",
       "    }\n",
       "\n",
       "    .dataframe tbody tr th {\n",
       "        vertical-align: top;\n",
       "    }\n",
       "\n",
       "    .dataframe thead th {\n",
       "        text-align: right;\n",
       "    }\n",
       "</style>\n",
       "<table border=\"1\" class=\"dataframe\">\n",
       "  <thead>\n",
       "    <tr style=\"text-align: right;\">\n",
       "      <th></th>\n",
       "      <th>1</th>\n",
       "      <th>2</th>\n",
       "      <th>3</th>\n",
       "      <th>4</th>\n",
       "      <th>5</th>\n",
       "      <th>6</th>\n",
       "      <th>7</th>\n",
       "      <th>8</th>\n",
       "      <th>9</th>\n",
       "      <th>10</th>\n",
       "      <th>11</th>\n",
       "      <th>12</th>\n",
       "      <th>13</th>\n",
       "      <th>14</th>\n",
       "      <th>15</th>\n",
       "      <th>16</th>\n",
       "    </tr>\n",
       "  </thead>\n",
       "  <tbody>\n",
       "    <tr>\n",
       "      <th>loss</th>\n",
       "      <td>1.918541</td>\n",
       "      <td>1.434459</td>\n",
       "      <td>1.228401</td>\n",
       "      <td>1.106654</td>\n",
       "      <td>1.009776</td>\n",
       "      <td>0.926821</td>\n",
       "      <td>0.858439</td>\n",
       "      <td>0.809714</td>\n",
       "      <td>0.781054</td>\n",
       "      <td>0.742644</td>\n",
       "      <td>0.714391</td>\n",
       "      <td>0.686408</td>\n",
       "      <td>0.658403</td>\n",
       "      <td>0.635061</td>\n",
       "      <td>0.607338</td>\n",
       "      <td>0.594052</td>\n",
       "    </tr>\n",
       "    <tr>\n",
       "      <th>val_loss</th>\n",
       "      <td>3.363144</td>\n",
       "      <td>1.459421</td>\n",
       "      <td>1.996499</td>\n",
       "      <td>2.009635</td>\n",
       "      <td>1.649762</td>\n",
       "      <td>1.865578</td>\n",
       "      <td>1.342039</td>\n",
       "      <td>1.111675</td>\n",
       "      <td>0.996892</td>\n",
       "      <td>0.970303</td>\n",
       "      <td>0.958458</td>\n",
       "      <td>0.896558</td>\n",
       "      <td>0.885783</td>\n",
       "      <td>0.833596</td>\n",
       "      <td>0.796225</td>\n",
       "      <td>0.688673</td>\n",
       "    </tr>\n",
       "    <tr>\n",
       "      <th>acc</th>\n",
       "      <td>0.423225</td>\n",
       "      <td>0.537867</td>\n",
       "      <td>0.600862</td>\n",
       "      <td>0.637501</td>\n",
       "      <td>0.665524</td>\n",
       "      <td>0.690815</td>\n",
       "      <td>0.711844</td>\n",
       "      <td>0.726759</td>\n",
       "      <td>0.738710</td>\n",
       "      <td>0.747603</td>\n",
       "      <td>0.757423</td>\n",
       "      <td>0.766872</td>\n",
       "      <td>0.775441</td>\n",
       "      <td>0.782574</td>\n",
       "      <td>0.788225</td>\n",
       "      <td>0.794525</td>\n",
       "    </tr>\n",
       "    <tr>\n",
       "      <th>val_acc</th>\n",
       "      <td>0.412255</td>\n",
       "      <td>0.540642</td>\n",
       "      <td>0.473114</td>\n",
       "      <td>0.556482</td>\n",
       "      <td>0.556899</td>\n",
       "      <td>0.520217</td>\n",
       "      <td>0.621926</td>\n",
       "      <td>0.650271</td>\n",
       "      <td>0.681951</td>\n",
       "      <td>0.691955</td>\n",
       "      <td>0.697791</td>\n",
       "      <td>0.719883</td>\n",
       "      <td>0.722801</td>\n",
       "      <td>0.732805</td>\n",
       "      <td>0.752397</td>\n",
       "      <td>0.771571</td>\n",
       "    </tr>\n",
       "  </tbody>\n",
       "</table>\n",
       "</div>"
      ],
      "text/plain": [
       "                1         2         3         4         5         6   \\\n",
       "loss      1.918541  1.434459  1.228401  1.106654  1.009776  0.926821   \n",
       "val_loss  3.363144  1.459421  1.996499  2.009635  1.649762  1.865578   \n",
       "acc       0.423225  0.537867  0.600862  0.637501  0.665524  0.690815   \n",
       "val_acc   0.412255  0.540642  0.473114  0.556482  0.556899  0.520217   \n",
       "\n",
       "                7         8         9         10        11        12  \\\n",
       "loss      0.858439  0.809714  0.781054  0.742644  0.714391  0.686408   \n",
       "val_loss  1.342039  1.111675  0.996892  0.970303  0.958458  0.896558   \n",
       "acc       0.711844  0.726759  0.738710  0.747603  0.757423  0.766872   \n",
       "val_acc   0.621926  0.650271  0.681951  0.691955  0.697791  0.719883   \n",
       "\n",
       "                13        14        15        16  \n",
       "loss      0.658403  0.635061  0.607338  0.594052  \n",
       "val_loss  0.885783  0.833596  0.796225  0.688673  \n",
       "acc       0.775441  0.782574  0.788225  0.794525  \n",
       "val_acc   0.722801  0.732805  0.752397  0.771571  "
      ]
     },
     "execution_count": 7,
     "metadata": {},
     "output_type": "execute_result"
    }
   ],
   "source": [
    "import pandas as pd\n",
    "\n",
    "list_ = [fit2.history['loss'], fit2.history['val_loss'], fit2.history['acc'], fit2.history['val_acc']]\n",
    "df = pd.DataFrame(list_, index=['loss', 'val_loss', 'acc', 'val_acc'], columns=range(1, epochs + 1))\n",
    "df.to_pickle(f_dir + 'histories/fit2_history_df.pickle')\n",
    "df"
   ]
  },
  {
   "cell_type": "code",
   "execution_count": 8,
   "metadata": {},
   "outputs": [
    {
     "data": {
      "image/png": "[encoded data removed]",
      "text/plain": [
       "<matplotlib.figure.Figure at 0x7f4ce42f6438>"
      ]
     },
     "metadata": {},
     "output_type": "display_data"
    }
   ],
   "source": [
    "%matplotlib inline\n",
    "\n",
    "# loss, accu plot\n",
    "fig1 = plt.figure(figsize=(15,5))\n",
    "ax1 = fig1.add_subplot(121)\n",
    "ax1.set_title('loss')\n",
    "ax1 = df.loc['loss'].plot(label='loss for training')\n",
    "ax1 = df.loc['val_loss'].plot(label='loss for validation')\n",
    "ax1.set_xlabel('epoch')\n",
    "ax1.set_xticks(range(2, epochs+1, 2))\n",
    "ax1.grid()\n",
    "ax1.legend()\n",
    "ax2 = fig1.add_subplot(122)\n",
    "ax2.set_title('accuracy')\n",
    "ax2 = df.loc['acc'].plot(label='loss for training')\n",
    "ax2 = df.loc['val_acc'].plot(label='loss for validation')\n",
    "ax2.set_xlabel('epoch')\n",
    "ax2.set_xticks(range(2, epochs+1, 2))\n",
    "ax2.grid()\n",
    "ax2.legend()\n",
    "\n",
    "fig1.savefig(f_dir + 'figures/fit2_plot.png')"
   ]
  },
  {
   "cell_type": "markdown",
   "metadata": {},
   "source": [
    "## 3.4 予測"
   ]
  },
  {
   "cell_type": "code",
   "execution_count": 9,
   "metadata": {},
   "outputs": [],
   "source": [
    "n_batches_test = -(-len(x2_test) // batch_size)\n",
    "\n",
    "gen = batch_gen(x2_test, y2_test)\n",
    "y2_predict_list = []\n",
    "for n in range(n_batches_test):\n",
    "    x2_test_mb, y2_test_mb = gen.__next__()\n",
    "    y2_predict_mb = model.predict(x2_test_mb)\n",
    "    \n",
    "    y2_predict_mb = np.argmax(y2_predict_mb, axis=1)  # 確率から数値に\n",
    "    y2_predict_list += y2_predict_mb.tolist()  # numpy配列重いのでリストに\n",
    "\n",
    "y2_test_n = np.argmax(y2_test, axis=1)  # 1-hotから数値に\n",
    "y2_test_list = y2_test_n.tolist()"
   ]
  },
  {
   "cell_type": "code",
   "execution_count": 10,
   "metadata": {},
   "outputs": [
    {
     "name": "stdout",
     "output_type": "stream",
     "text": [
      "4234\n",
      "4234\n",
      "[9, 14, 4, 7, 5]\n",
      "[9, 14, 4, 7, 9]\n",
      "accuracy: 0.767123287671\n",
      "f1_score: 0.637306409839\n"
     ]
    }
   ],
   "source": [
    "print(len(y2_test_list))\n",
    "print(len(y2_predict_list))\n",
    "print(y2_test_list[:5])\n",
    "print(y2_predict_list[:5])\n",
    "\n",
    "print('accuracy:', accuracy_score(y2_test_list, y2_predict_list))\n",
    "print('f1_score:', f1_score(y2_test_list, y2_predict_list, average='macro'))"
   ]
  },
  {
   "cell_type": "code",
   "execution_count": null,
   "metadata": {},
   "outputs": [],
   "source": []
  }
 ],
 "metadata": {
  "kernelspec": {
   "display_name": "Python 3",
   "language": "python",
   "name": "python3"
  },
  "language_info": {
   "codemirror_mode": {
    "name": "ipython",
    "version": 3
   },
   "file_extension": ".py",
   "mimetype": "text/x-python",
   "name": "python",
   "nbconvert_exporter": "python",
   "pygments_lexer": "ipython3",
   "version": "3.5.2"
  }
 },
 "nbformat": 4,
 "nbformat_minor": 2
}
